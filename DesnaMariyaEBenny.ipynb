{
  "nbformat": 4,
  "nbformat_minor": 0,
  "metadata": {
    "colab": {
      "name": "Untitled1.ipynb",
      "provenance": [],
      "authorship_tag": "ABX9TyMTBOqbuuM/tIAJvvubIrJX",
      "include_colab_link": true
    },
    "kernelspec": {
      "name": "python3",
      "display_name": "Python 3"
    },
    "language_info": {
      "name": "python"
    }
  },
  "cells": [
    {
      "cell_type": "markdown",
      "metadata": {
        "id": "view-in-github",
        "colab_type": "text"
      },
      "source": [
        "<a href=\"https://colab.research.google.com/github/19mp1359/ShapeAi/blob/main/DesnaMariyaEBenny.ipynb\" target=\"_parent\"><img src=\"https://colab.research.google.com/assets/colab-badge.svg\" alt=\"Open In Colab\"/></a>"
      ]
    },
    {
      "cell_type": "code",
      "metadata": {
        "colab": {
          "base_uri": "https://localhost:8080/"
        },
        "id": "JnQLYVffiiYw",
        "outputId": "8f616082-c942-48e8-a2d7-c175f792f278"
      },
      "source": [
        "import requests\n",
        "import os\n",
        "from datetime import datetime\n",
        "\n",
        "api_key = 'b5359664000838715a0a8dba01e399d9'\n",
        "location = input(\"Enter the city name: \")\n",
        "\n",
        "complete_api_link = \"https://api.openweathermap.org/data/2.5/weather?q=\"+location+\"&appid=\"+api_key\n",
        "api_link = requests.get(complete_api_link)\n",
        "api_data = api_link.json()\n",
        "\n",
        "\n",
        "temp_city = ((api_data['main']['temp']) - 273.15)\n",
        "weather_desc = api_data['weather'][0]['description']\n",
        "hmdt = api_data['main']['humidity']\n",
        "wind_spd = api_data['wind']['speed']\n",
        "date_time = datetime.now().strftime(\"%d %b %Y | %I:%M:%S %p\")\n",
        "\n",
        "print (\"________________________________________________________________\")\n",
        "print (\"Weather Stats for - {}  || {}\".format(location.upper(), date_time))\n",
        "print (\"________________________________________________________________\")\n",
        "\n",
        "print (\"# Current temperature is: {:.2f} deg C\".format(temp_city))\n",
        "print (\"# Current weather desc  :\", weather_desc)\n",
        "print (\"# Current Humidity      :\", hmdt, '%')\n",
        "print (\"# Current wind speed    :\", wind_spd ,'kmph')\n",
        "with open('File01.txt', 'w') as f:\n",
        " f.write(\"city: \"+location+\"\\n\"+\"Temperature :\"+str(temp_city)+\"\\nWeather Description :\"+weather_desc+\"\\nHumidity :\"+str(hmdt)+\" %\"+\"\\nWind speed :\"+str(wind_spd)+str(wind_spd)+\" kmph\")"
      ],
      "execution_count": 1,
      "outputs": [
        {
          "output_type": "stream",
          "text": [
            "Enter the city name: thrissur\n",
            "________________________________________________________________\n",
            "Weather Stats for - THRISSUR  || 23 Jun 2021 | 03:46:11 PM\n",
            "________________________________________________________________\n",
            "# Current temperature is: 26.99 deg C\n",
            "# Current weather desc  : heavy intensity rain\n",
            "# Current Humidity      : 94 %\n",
            "# Current wind speed    : 1.04 kmph\n"
          ],
          "name": "stdout"
        }
      ]
    }
  ]
}